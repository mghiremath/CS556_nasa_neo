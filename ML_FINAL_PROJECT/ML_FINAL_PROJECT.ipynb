{
 "cells": [
  {
   "cell_type": "code",
   "execution_count": 5,
   "id": "88f26a99",
   "metadata": {},
   "outputs": [],
   "source": [
    "# importing required libaries\n",
    "\n",
    "# for handling dataframe operations\n",
    "import pandas as pd\n",
    "import numpy as np\n",
    "from sklearn import preprocessing\n",
    "from sklearn.model_selection import train_test_split, GridSearchCV\n",
    "from sklearn.decomposition import PCA\n",
    "\n",
    "# for machine learning model building\n",
    "from sklearn import linear_model\n",
    "from sklearn.svm import SVC\n",
    "\n",
    "\n",
    "# metrics\n",
    "from sklearn.metrics import accuracy_score, precision_score, recall_score, f1_score, roc_auc_score\n",
    "\n",
    "# for plotting\n",
    "import matplotlib.pyplot as plt\n",
    "import seaborn as sns \n",
    "%matplotlib inline\n",
    "\n",
    "# to get the status of jobs in loop\n",
    "from tqdm import tqdm\n",
    "\n",
    "# to filter-out all the warnings given by python modules\n",
    "import warnings\n",
    "warnings.filterwarnings(\"ignore\")"
   ]
  },
  {
   "cell_type": "code",
   "execution_count": 6,
   "id": "1aaa1883",
   "metadata": {},
   "outputs": [
    {
     "data": {
      "text/html": [
       "<div>\n",
       "<style scoped>\n",
       "    .dataframe tbody tr th:only-of-type {\n",
       "        vertical-align: middle;\n",
       "    }\n",
       "\n",
       "    .dataframe tbody tr th {\n",
       "        vertical-align: top;\n",
       "    }\n",
       "\n",
       "    .dataframe thead th {\n",
       "        text-align: right;\n",
       "    }\n",
       "</style>\n",
       "<table border=\"1\" class=\"dataframe\">\n",
       "  <thead>\n",
       "    <tr style=\"text-align: right;\">\n",
       "      <th></th>\n",
       "      <th>id</th>\n",
       "      <th>name</th>\n",
       "      <th>est_diameter_min</th>\n",
       "      <th>est_diameter_max</th>\n",
       "      <th>relative_velocity</th>\n",
       "      <th>miss_distance</th>\n",
       "      <th>orbiting_body</th>\n",
       "      <th>sentry_object</th>\n",
       "      <th>absolute_magnitude</th>\n",
       "      <th>hazardous</th>\n",
       "    </tr>\n",
       "  </thead>\n",
       "  <tbody>\n",
       "    <tr>\n",
       "      <th>0</th>\n",
       "      <td>2162635</td>\n",
       "      <td>162635 (2000 SS164)</td>\n",
       "      <td>1.198271</td>\n",
       "      <td>2.679415</td>\n",
       "      <td>13569.249224</td>\n",
       "      <td>5.483974e+07</td>\n",
       "      <td>Earth</td>\n",
       "      <td>False</td>\n",
       "      <td>16.73</td>\n",
       "      <td>False</td>\n",
       "    </tr>\n",
       "    <tr>\n",
       "      <th>1</th>\n",
       "      <td>2277475</td>\n",
       "      <td>277475 (2005 WK4)</td>\n",
       "      <td>0.265800</td>\n",
       "      <td>0.594347</td>\n",
       "      <td>73588.726663</td>\n",
       "      <td>6.143813e+07</td>\n",
       "      <td>Earth</td>\n",
       "      <td>False</td>\n",
       "      <td>20.00</td>\n",
       "      <td>True</td>\n",
       "    </tr>\n",
       "    <tr>\n",
       "      <th>2</th>\n",
       "      <td>2512244</td>\n",
       "      <td>512244 (2015 YE18)</td>\n",
       "      <td>0.722030</td>\n",
       "      <td>1.614507</td>\n",
       "      <td>114258.692129</td>\n",
       "      <td>4.979872e+07</td>\n",
       "      <td>Earth</td>\n",
       "      <td>False</td>\n",
       "      <td>17.83</td>\n",
       "      <td>False</td>\n",
       "    </tr>\n",
       "    <tr>\n",
       "      <th>3</th>\n",
       "      <td>3596030</td>\n",
       "      <td>(2012 BV13)</td>\n",
       "      <td>0.096506</td>\n",
       "      <td>0.215794</td>\n",
       "      <td>24764.303138</td>\n",
       "      <td>2.543497e+07</td>\n",
       "      <td>Earth</td>\n",
       "      <td>False</td>\n",
       "      <td>22.20</td>\n",
       "      <td>False</td>\n",
       "    </tr>\n",
       "    <tr>\n",
       "      <th>4</th>\n",
       "      <td>3667127</td>\n",
       "      <td>(2014 GE35)</td>\n",
       "      <td>0.255009</td>\n",
       "      <td>0.570217</td>\n",
       "      <td>42737.733765</td>\n",
       "      <td>4.627557e+07</td>\n",
       "      <td>Earth</td>\n",
       "      <td>False</td>\n",
       "      <td>20.09</td>\n",
       "      <td>True</td>\n",
       "    </tr>\n",
       "  </tbody>\n",
       "</table>\n",
       "</div>"
      ],
      "text/plain": [
       "        id                 name  est_diameter_min  est_diameter_max  \\\n",
       "0  2162635  162635 (2000 SS164)          1.198271          2.679415   \n",
       "1  2277475    277475 (2005 WK4)          0.265800          0.594347   \n",
       "2  2512244   512244 (2015 YE18)          0.722030          1.614507   \n",
       "3  3596030          (2012 BV13)          0.096506          0.215794   \n",
       "4  3667127          (2014 GE35)          0.255009          0.570217   \n",
       "\n",
       "   relative_velocity  miss_distance orbiting_body  sentry_object  \\\n",
       "0       13569.249224   5.483974e+07         Earth          False   \n",
       "1       73588.726663   6.143813e+07         Earth          False   \n",
       "2      114258.692129   4.979872e+07         Earth          False   \n",
       "3       24764.303138   2.543497e+07         Earth          False   \n",
       "4       42737.733765   4.627557e+07         Earth          False   \n",
       "\n",
       "   absolute_magnitude  hazardous  \n",
       "0               16.73      False  \n",
       "1               20.00       True  \n",
       "2               17.83      False  \n",
       "3               22.20      False  \n",
       "4               20.09       True  "
      ]
     },
     "execution_count": 6,
     "metadata": {},
     "output_type": "execute_result"
    }
   ],
   "source": [
    "# reading the data from csv and looking first 5 rows\n",
    "data = pd.read_csv(\"NASA.csv\")\n",
    "data.head(5)"
   ]
  },
  {
   "cell_type": "markdown",
   "id": "29ede482",
   "metadata": {},
   "source": [
    "- by quickly observing we can find this things from data:\n",
    "\n",
    "    - We can drop features id, name, orbiting_body, sentry_object. Since they are almost unique values, so it can't be useful for us to classify data points.\n",
    "    - Hazardous column consists values either true or false (string), we can convert them to 0 or 1."
   ]
  },
  {
   "cell_type": "code",
   "execution_count": 7,
   "id": "8969ccad",
   "metadata": {},
   "outputs": [
    {
     "data": {
      "text/html": [
       "<div>\n",
       "<style scoped>\n",
       "    .dataframe tbody tr th:only-of-type {\n",
       "        vertical-align: middle;\n",
       "    }\n",
       "\n",
       "    .dataframe tbody tr th {\n",
       "        vertical-align: top;\n",
       "    }\n",
       "\n",
       "    .dataframe thead th {\n",
       "        text-align: right;\n",
       "    }\n",
       "</style>\n",
       "<table border=\"1\" class=\"dataframe\">\n",
       "  <thead>\n",
       "    <tr style=\"text-align: right;\">\n",
       "      <th></th>\n",
       "      <th>est_diameter_min</th>\n",
       "      <th>est_diameter_max</th>\n",
       "      <th>relative_velocity</th>\n",
       "      <th>miss_distance</th>\n",
       "      <th>absolute_magnitude</th>\n",
       "      <th>hazardous</th>\n",
       "    </tr>\n",
       "  </thead>\n",
       "  <tbody>\n",
       "    <tr>\n",
       "      <th>0</th>\n",
       "      <td>1.198271</td>\n",
       "      <td>2.679415</td>\n",
       "      <td>13569.249224</td>\n",
       "      <td>5.483974e+07</td>\n",
       "      <td>16.73</td>\n",
       "      <td>0</td>\n",
       "    </tr>\n",
       "    <tr>\n",
       "      <th>1</th>\n",
       "      <td>0.265800</td>\n",
       "      <td>0.594347</td>\n",
       "      <td>73588.726663</td>\n",
       "      <td>6.143813e+07</td>\n",
       "      <td>20.00</td>\n",
       "      <td>1</td>\n",
       "    </tr>\n",
       "    <tr>\n",
       "      <th>2</th>\n",
       "      <td>0.722030</td>\n",
       "      <td>1.614507</td>\n",
       "      <td>114258.692129</td>\n",
       "      <td>4.979872e+07</td>\n",
       "      <td>17.83</td>\n",
       "      <td>0</td>\n",
       "    </tr>\n",
       "    <tr>\n",
       "      <th>3</th>\n",
       "      <td>0.096506</td>\n",
       "      <td>0.215794</td>\n",
       "      <td>24764.303138</td>\n",
       "      <td>2.543497e+07</td>\n",
       "      <td>22.20</td>\n",
       "      <td>0</td>\n",
       "    </tr>\n",
       "    <tr>\n",
       "      <th>4</th>\n",
       "      <td>0.255009</td>\n",
       "      <td>0.570217</td>\n",
       "      <td>42737.733765</td>\n",
       "      <td>4.627557e+07</td>\n",
       "      <td>20.09</td>\n",
       "      <td>1</td>\n",
       "    </tr>\n",
       "  </tbody>\n",
       "</table>\n",
       "</div>"
      ],
      "text/plain": [
       "   est_diameter_min  est_diameter_max  relative_velocity  miss_distance  \\\n",
       "0          1.198271          2.679415       13569.249224   5.483974e+07   \n",
       "1          0.265800          0.594347       73588.726663   6.143813e+07   \n",
       "2          0.722030          1.614507      114258.692129   4.979872e+07   \n",
       "3          0.096506          0.215794       24764.303138   2.543497e+07   \n",
       "4          0.255009          0.570217       42737.733765   4.627557e+07   \n",
       "\n",
       "   absolute_magnitude  hazardous  \n",
       "0               16.73          0  \n",
       "1               20.00          1  \n",
       "2               17.83          0  \n",
       "3               22.20          0  \n",
       "4               20.09          1  "
      ]
     },
     "execution_count": 7,
     "metadata": {},
     "output_type": "execute_result"
    }
   ],
   "source": [
    "hazardous_encoder = preprocessing.LabelEncoder() # initializing label encoder object \n",
    "data['hazardous'] = hazardous_encoder.fit_transform(data.hazardous) # transforming false to 0 and true to 1 in hazardous column\n",
    "data.drop(['id', 'name', 'orbiting_body', 'sentry_object'], axis=1, inplace=True) # dropping the columns consists of unique values\n",
    "data.head()"
   ]
  },
  {
   "cell_type": "markdown",
   "id": "9db19197",
   "metadata": {},
   "source": [
    "### Checking for missing data"
   ]
  },
  {
   "cell_type": "code",
   "execution_count": 8,
   "id": "21d5c181",
   "metadata": {},
   "outputs": [
    {
     "data": {
      "text/plain": [
       "est_diameter_min      0\n",
       "est_diameter_max      0\n",
       "relative_velocity     0\n",
       "miss_distance         0\n",
       "absolute_magnitude    0\n",
       "hazardous             0\n",
       "dtype: int64"
      ]
     },
     "execution_count": 8,
     "metadata": {},
     "output_type": "execute_result"
    }
   ],
   "source": [
    "data.isnull().sum(axis = 0)"
   ]
  },
  {
   "cell_type": "markdown",
   "id": "7394296c",
   "metadata": {},
   "source": [
    " - This indicating we don't have any missing data in our features"
   ]
  },
  {
   "cell_type": "markdown",
   "id": "0106c627",
   "metadata": {},
   "source": [
    "### Glimpse of feature stastics:"
   ]
  },
  {
   "cell_type": "code",
   "execution_count": 9,
   "id": "0000fb19",
   "metadata": {},
   "outputs": [
    {
     "data": {
      "text/html": [
       "<div>\n",
       "<style scoped>\n",
       "    .dataframe tbody tr th:only-of-type {\n",
       "        vertical-align: middle;\n",
       "    }\n",
       "\n",
       "    .dataframe tbody tr th {\n",
       "        vertical-align: top;\n",
       "    }\n",
       "\n",
       "    .dataframe thead th {\n",
       "        text-align: right;\n",
       "    }\n",
       "</style>\n",
       "<table border=\"1\" class=\"dataframe\">\n",
       "  <thead>\n",
       "    <tr style=\"text-align: right;\">\n",
       "      <th></th>\n",
       "      <th>est_diameter_min</th>\n",
       "      <th>est_diameter_max</th>\n",
       "      <th>relative_velocity</th>\n",
       "      <th>miss_distance</th>\n",
       "      <th>absolute_magnitude</th>\n",
       "      <th>hazardous</th>\n",
       "    </tr>\n",
       "  </thead>\n",
       "  <tbody>\n",
       "    <tr>\n",
       "      <th>count</th>\n",
       "      <td>90836.000000</td>\n",
       "      <td>90836.000000</td>\n",
       "      <td>90836.000000</td>\n",
       "      <td>9.083600e+04</td>\n",
       "      <td>90836.000000</td>\n",
       "      <td>90836.000000</td>\n",
       "    </tr>\n",
       "    <tr>\n",
       "      <th>mean</th>\n",
       "      <td>0.127432</td>\n",
       "      <td>0.284947</td>\n",
       "      <td>48066.918918</td>\n",
       "      <td>3.706655e+07</td>\n",
       "      <td>23.527103</td>\n",
       "      <td>0.097318</td>\n",
       "    </tr>\n",
       "    <tr>\n",
       "      <th>std</th>\n",
       "      <td>0.298511</td>\n",
       "      <td>0.667491</td>\n",
       "      <td>25293.296961</td>\n",
       "      <td>2.235204e+07</td>\n",
       "      <td>2.894086</td>\n",
       "      <td>0.296392</td>\n",
       "    </tr>\n",
       "    <tr>\n",
       "      <th>min</th>\n",
       "      <td>0.000609</td>\n",
       "      <td>0.001362</td>\n",
       "      <td>203.346433</td>\n",
       "      <td>6.745533e+03</td>\n",
       "      <td>9.230000</td>\n",
       "      <td>0.000000</td>\n",
       "    </tr>\n",
       "    <tr>\n",
       "      <th>25%</th>\n",
       "      <td>0.019256</td>\n",
       "      <td>0.043057</td>\n",
       "      <td>28619.020645</td>\n",
       "      <td>1.721082e+07</td>\n",
       "      <td>21.340000</td>\n",
       "      <td>0.000000</td>\n",
       "    </tr>\n",
       "    <tr>\n",
       "      <th>50%</th>\n",
       "      <td>0.048368</td>\n",
       "      <td>0.108153</td>\n",
       "      <td>44190.117890</td>\n",
       "      <td>3.784658e+07</td>\n",
       "      <td>23.700000</td>\n",
       "      <td>0.000000</td>\n",
       "    </tr>\n",
       "    <tr>\n",
       "      <th>75%</th>\n",
       "      <td>0.143402</td>\n",
       "      <td>0.320656</td>\n",
       "      <td>62923.604633</td>\n",
       "      <td>5.654900e+07</td>\n",
       "      <td>25.700000</td>\n",
       "      <td>0.000000</td>\n",
       "    </tr>\n",
       "    <tr>\n",
       "      <th>max</th>\n",
       "      <td>37.892650</td>\n",
       "      <td>84.730541</td>\n",
       "      <td>236990.128088</td>\n",
       "      <td>7.479865e+07</td>\n",
       "      <td>33.200000</td>\n",
       "      <td>1.000000</td>\n",
       "    </tr>\n",
       "  </tbody>\n",
       "</table>\n",
       "</div>"
      ],
      "text/plain": [
       "       est_diameter_min  est_diameter_max  relative_velocity  miss_distance  \\\n",
       "count      90836.000000      90836.000000       90836.000000   9.083600e+04   \n",
       "mean           0.127432          0.284947       48066.918918   3.706655e+07   \n",
       "std            0.298511          0.667491       25293.296961   2.235204e+07   \n",
       "min            0.000609          0.001362         203.346433   6.745533e+03   \n",
       "25%            0.019256          0.043057       28619.020645   1.721082e+07   \n",
       "50%            0.048368          0.108153       44190.117890   3.784658e+07   \n",
       "75%            0.143402          0.320656       62923.604633   5.654900e+07   \n",
       "max           37.892650         84.730541      236990.128088   7.479865e+07   \n",
       "\n",
       "       absolute_magnitude     hazardous  \n",
       "count        90836.000000  90836.000000  \n",
       "mean            23.527103      0.097318  \n",
       "std              2.894086      0.296392  \n",
       "min              9.230000      0.000000  \n",
       "25%             21.340000      0.000000  \n",
       "50%             23.700000      0.000000  \n",
       "75%             25.700000      0.000000  \n",
       "max             33.200000      1.000000  "
      ]
     },
     "execution_count": 9,
     "metadata": {},
     "output_type": "execute_result"
    }
   ],
   "source": [
    "data.describe()"
   ]
  },
  {
   "cell_type": "markdown",
   "id": "860bdf0d",
   "metadata": {},
   "source": [
    "### Exploratory Data Analysis:\n",
    " - Here we will check the distributions of each column and we will remove potential outliers in our dataset"
   ]
  },
  {
   "cell_type": "code",
   "execution_count": 10,
   "id": "258cca1f",
   "metadata": {},
   "outputs": [
    {
     "data": {
      "image/png": "[encoded data removed]",
      "text/plain": [
       "<Figure size 720x360 with 1 Axes>"
      ]
     },
     "metadata": {
      "needs_background": "light"
     },
     "output_type": "display_data"
    }
   ],
   "source": [
    "# est_diameter_min:\n",
    "plt.rcParams['figure.figsize'] = (10, 5)\n",
    "sns.distplot(data['est_diameter_min'])\n",
    "plt.show()"
   ]
  },
  {
   "cell_type": "markdown",
   "id": "2e89c954",
   "metadata": {},
   "source": [
    " - This distribution of est_diameter is right skewed, so there is a high chance of potential outliers. \n",
    " - By using Z-score concept, we can drop values which are lesser than mu - 3*sigma and higher than mu + 3*sigma"
   ]
  },
  {
   "cell_type": "code",
   "execution_count": 11,
   "id": "1b538abe",
   "metadata": {},
   "outputs": [
    {
     "data": {
      "text/plain": [
       "(89018, 6)"
      ]
     },
     "execution_count": 11,
     "metadata": {},
     "output_type": "execute_result"
    }
   ],
   "source": [
    "lower_bound = data['est_diameter_min'].quantile(0.01) \n",
    "upper_bound  = data['est_diameter_min'].quantile(0.99)\n",
    "\n",
    "data = data[(data[\"est_diameter_min\"] < upper_bound) & (data[\"est_diameter_min\"] > lower_bound)]\n",
    "data.shape"
   ]
  },
  {
   "cell_type": "code",
   "execution_count": 12,
   "id": "05f8c039",
   "metadata": {},
   "outputs": [],
   "source": [
    "# We are gonna apply same technique on every numeric column in our data:\n",
    "remaining_columns = [\"est_diameter_max\", \"relative_velocity\", \"miss_distance\", \"absolute_magnitude\"]\n",
    "for i in remaining_columns:\n",
    "    lower_bound = data[i].quantile(0.01) \n",
    "    upper_bound  = data[i].quantile(0.99)\n",
    "    data = data[(data[i] < upper_bound) & (data[i] > lower_bound)]"
   ]
  },
  {
   "cell_type": "markdown",
   "id": "258bf9b8",
   "metadata": {},
   "source": [
    " <b> Let's Analyze Target Feature \"hazardous\" </b>"
   ]
  },
  {
   "cell_type": "code",
   "execution_count": 13,
   "id": "c687ed18",
   "metadata": {},
   "outputs": [
    {
     "data": {
      "text/plain": [
       "0    74119\n",
       "1     7792\n",
       "Name: hazardous, dtype: int64"
      ]
     },
     "execution_count": 13,
     "metadata": {},
     "output_type": "execute_result"
    }
   ],
   "source": [
    "# check the count of each category in target feature:\n",
    "data.hazardous.value_counts()"
   ]
  },
  {
   "cell_type": "code",
   "execution_count": 14,
   "id": "c42fdb71",
   "metadata": {},
   "outputs": [
    {
     "name": "stdout",
     "output_type": "stream",
     "text": [
      "Percentage of non hazardous data points:  0.904872361465493\n",
      "Percentage of hazardous data points:  0.09512763853450697\n"
     ]
    }
   ],
   "source": [
    "print(\"Percentage of non hazardous data points: \", data.hazardous.value_counts()[0]/data.shape[0])\n",
    "print(\"Percentage of hazardous data points: \", data.hazardous.value_counts()[1]/data.shape[0])"
   ]
  },
  {
   "cell_type": "markdown",
   "id": "021fdd32",
   "metadata": {},
   "source": [
    " - This is clear evident of unbalanced data. \n",
    " - Why?\n",
    "  - In the given data 90% of the data points are belong to class 0 (non hazardous) and only 10% of data points are belongs to class 1 (hazardous)\n",
    "  - We can handle this situation by giving more weight to minority class, which is hazardous"
   ]
  },
  {
   "cell_type": "markdown",
   "id": "14cf6209",
   "metadata": {},
   "source": [
    "### Splitting the data:"
   ]
  },
  {
   "cell_type": "code",
   "execution_count": 15,
   "id": "688d30e2",
   "metadata": {},
   "outputs": [],
   "source": [
    "# Here are we are using 80% of data for training and 20% of data as testing with random state = 4 (to reproduce the same results)\n",
    "x, y = data.iloc[:, 0:-1], data.iloc[:, -1]\n",
    "x_train, x_test, y_train, y_test = train_test_split(x, y, test_size=0.2, random_state=4)"
   ]
  },
  {
   "cell_type": "markdown",
   "id": "b40e75f1",
   "metadata": {},
   "source": [
    "### Scaling the features:"
   ]
  },
  {
   "cell_type": "code",
   "execution_count": 16,
   "id": "277614f6",
   "metadata": {},
   "outputs": [],
   "source": [
    "# we will check for both normalization and standardization\n",
    "# In standardization data will be scaled between [-1, 1]\n",
    "\n",
    "# standardization\n",
    "x_train_stand, x_test_stand = x_train.values, x_test.values # returns a numpy array\n",
    "standard_scaler = preprocessing.StandardScaler() # initializing the StandardScaler class object\n",
    "x_train_stand = standard_scaler.fit_transform(x_train_stand)\n",
    "x_test_stand = standard_scaler.transform(x_test_stand)\n",
    "\n",
    "# Normalization\n",
    "x_train_norm, x_test_norm = x_train.values, x_test.values # returns a numpy array\n",
    "min_max_scaler = preprocessing.MinMaxScaler() # initializing the min max scaler class object\n",
    "x_train_norm = min_max_scaler.fit_transform(x_train_norm)\n",
    "x_test_norm = min_max_scaler.transform(x_test_norm)"
   ]
  },
  {
   "cell_type": "markdown",
   "id": "421ecc17",
   "metadata": {},
   "source": [
    "### Bulding models:"
   ]
  },
  {
   "cell_type": "markdown",
   "id": "948bc157",
   "metadata": {},
   "source": [
    "#### 1. Logistic Regrssion"
   ]
  },
  {
   "cell_type": "markdown",
   "id": "03e98701",
   "metadata": {},
   "source": [
    "#### Hyperparameter tuning:"
   ]
  },
  {
   "cell_type": "code",
   "execution_count": 30,
   "id": "7e875463",
   "metadata": {},
   "outputs": [
    {
     "name": "stderr",
     "output_type": "stream",
     "text": [
      "100%|███████████████████████████████████████████| 10/10 [00:00<00:00, 10.62it/s]\n"
     ]
    },
    {
     "data": {
      "image/png": "[encoded data removed]",
      "text/plain": [
       "<Figure size 720x360 with 1 Axes>"
      ]
     },
     "metadata": {
      "needs_background": "light"
     },
     "output_type": "display_data"
    }
   ],
   "source": [
    "# expermiment 1: Building Logistic Regression model\n",
    " # 1.1 using the features which are normalized\n",
    " # 1.2 using the fatures which are standardized\n",
    "\n",
    "hyper_parameter = [10**-5, 10**-4, 10**-3, 10**-2, 10**-1, 1, 10, 100, 1000, 10000]\n",
    "train_auc_normalized_data, train_auc_stdized_data = [], []\n",
    "for i in tqdm(hyper_parameter):\n",
    "    clf = linear_model.SGDClassifier(loss=\"log\", \n",
    "                                     penalty=\"l2\", \n",
    "                                     alpha=i,\n",
    "                                     n_jobs=-1,\n",
    "                                     class_weight='balanced', random_state=4)\n",
    "    clf.fit(x_train_stand, y_train)\n",
    "    y_train_pred = clf.predict_proba(x_train_stand)[:,1]    \n",
    "    train_auc_stdized_data.append(roc_auc_score(y_train, y_train_pred))\n",
    "    \n",
    "plt.semilogx(hyper_parameter, train_auc_stdized_data, label='AUC plot')\n",
    "plt.scatter(hyper_parameter, train_auc_stdized_data, label='AUC')\n",
    "\n",
    "plt.xlabel(\"alpha: hyperparameter\")\n",
    "plt.ylabel(\"AUC\")\n",
    "plt.title(\"Train AUC vs Hyperparameter\")\n",
    "\n",
    "plt.legend()\n",
    "plt.show()\n",
    "plt.grid='True'"
   ]
  },
  {
   "cell_type": "markdown",
   "id": "ce3da289",
   "metadata": {},
   "source": [
    " - We are getting good results with Standardized data, with alpha = 10^-3"
   ]
  },
  {
   "cell_type": "code",
   "execution_count": 17,
   "id": "11927f38",
   "metadata": {},
   "outputs": [
    {
     "name": "stdout",
     "output_type": "stream",
     "text": [
      "Accuray for training data is: 0.785236845318032 and for test data is: 0.7816028810352195\n",
      "\n",
      "\n",
      "Precision for training data is: 0.3044785091674181 and for test data is: 0.2950688760231583\n",
      "\n",
      "\n",
      "Recall for training data is: 0.9698420296792724 and for test data is: 0.9691803278688524\n",
      "\n",
      "\n",
      "F1 Score for training data is: 0.4634564794692897 and for test data is: 0.4524028160391796\n",
      "\n",
      "\n",
      "AUC Score for training data is: 0.8677782059096484 and for test data is: 0.8657652884464736\n"
     ]
    }
   ],
   "source": [
    "# Building the model with the best alpha value:\n",
    "\n",
    "clf = linear_model.SGDClassifier(loss=\"log\", \n",
    "                                 penalty=\"l2\", \n",
    "                                 alpha=10**-3,\n",
    "                                 n_jobs=-1,\n",
    "                                 class_weight='balanced', random_state=4)\n",
    "clf = clf.fit(x_train_stand, y_train)\n",
    "y_train_pred = clf.predict(x_train_stand) \n",
    "y_test_pred = clf.predict(x_test_stand)\n",
    "\n",
    "print(\"Accuray for training data is: {0} and for test data is: {1}\".format(accuracy_score(y_train, y_train_pred), accuracy_score(y_test, y_test_pred)))\n",
    "print(\"\\n\")\n",
    "print(\"Precision for training data is: {0} and for test data is: {1}\".format(precision_score(y_train, y_train_pred), precision_score(y_test, y_test_pred)))\n",
    "print(\"\\n\")\n",
    "print(\"Recall for training data is: {0} and for test data is: {1}\".format(recall_score(y_train, y_train_pred), recall_score(y_test, y_test_pred)))\n",
    "print(\"\\n\")\n",
    "print(\"F1 Score for training data is: {0} and for test data is: {1}\".format(f1_score(y_train, y_train_pred), f1_score(y_test, y_test_pred)))\n",
    "print(\"\\n\")\n",
    "print(\"AUC Score for training data is: {0} and for test data is: {1}\".format(roc_auc_score(y_train, y_train_pred), roc_auc_score(y_test, y_test_pred)))"
   ]
  },
  {
   "cell_type": "code",
   "execution_count": 29,
   "id": "9d19955e",
   "metadata": {},
   "outputs": [],
   "source": [
    "result = pd.DataFrame(data=np.array([y_test, y_test_pred]).T, columns=[\"original\", \"predicted\"])\n",
    "result.to_csv(\"logistic_regression_results.csv\", index=False)"
   ]
  },
  {
   "cell_type": "markdown",
   "id": "a6e66af6",
   "metadata": {},
   "source": [
    "####  2. SVM"
   ]
  },
  {
   "cell_type": "code",
   "execution_count": 35,
   "id": "9ae3e951",
   "metadata": {},
   "outputs": [
    {
     "name": "stdout",
     "output_type": "stream",
     "text": [
      "Fitting 3 folds for each of 6 candidates, totalling 18 fits\n",
      "[CV 1/3] END C=1, kernel=rbf;, score=(train=0.773, test=0.774) total time= 1.0min\n",
      "[CV 2/3] END C=1, kernel=rbf;, score=(train=0.776, test=0.775) total time= 1.0min\n",
      "[CV 3/3] END C=1, kernel=rbf;, score=(train=0.773, test=0.773) total time= 1.0min\n",
      "[CV 1/3] END C=1, kernel=poly;, score=(train=0.772, test=0.773) total time=  37.2s\n",
      "[CV 2/3] END C=1, kernel=poly;, score=(train=0.774, test=0.773) total time=  37.3s\n",
      "[CV 3/3] END C=1, kernel=poly;, score=(train=0.771, test=0.771) total time=  37.5s\n",
      "[CV 1/3] END C=10, kernel=rbf;, score=(train=0.779, test=0.780) total time= 1.0min\n",
      "[CV 2/3] END C=10, kernel=rbf;, score=(train=0.781, test=0.779) total time= 1.0min\n",
      "[CV 3/3] END C=10, kernel=rbf;, score=(train=0.779, test=0.779) total time= 1.0min\n",
      "[CV 1/3] END C=10, kernel=poly;, score=(train=0.773, test=0.774) total time=  45.8s\n",
      "[CV 2/3] END C=10, kernel=poly;, score=(train=0.775, test=0.774) total time=  52.0s\n",
      "[CV 3/3] END C=10, kernel=poly;, score=(train=0.773, test=0.773) total time=  45.2s\n",
      "[CV 1/3] END C=100, kernel=rbf;, score=(train=0.785, test=0.784) total time= 1.1min\n",
      "[CV 2/3] END C=100, kernel=rbf;, score=(train=0.785, test=0.784) total time= 1.1min\n",
      "[CV 3/3] END C=100, kernel=rbf;, score=(train=0.784, test=0.785) total time= 1.1min\n",
      "[CV 1/3] END C=100, kernel=poly;, score=(train=0.774, test=0.775) total time= 2.7min\n",
      "[CV 2/3] END C=100, kernel=poly;, score=(train=0.776, test=0.775) total time= 2.9min\n",
      "[CV 3/3] END C=100, kernel=poly;, score=(train=0.773, test=0.774) total time= 2.6min\n"
     ]
    },
    {
     "data": {
      "text/plain": [
       "GridSearchCV(cv=3, estimator=SVC(class_weight='balanced'),\n",
       "             param_grid={'C': [1, 10, 100], 'kernel': ['rbf', 'poly']},\n",
       "             return_train_score=True, verbose=5)"
      ]
     },
     "execution_count": 35,
     "metadata": {},
     "output_type": "execute_result"
    }
   ],
   "source": [
    "model = SVC(class_weight='balanced')\n",
    "param_grid = {'C':[1, 10, 100], 'kernel':['rbf', 'poly']}\n",
    "grid = GridSearchCV(model, param_grid, cv=3, return_train_score=True, verbose=5)\n",
    "grid.fit(x_train_norm,y_train)"
   ]
  },
  {
   "cell_type": "code",
   "execution_count": 36,
   "id": "41bc68e8",
   "metadata": {},
   "outputs": [
    {
     "name": "stdout",
     "output_type": "stream",
     "text": [
      "The best accuracy is: 0.7842754283376819 and the best model parameters are: {'C': 100, 'kernel': 'rbf'}\n"
     ]
    }
   ],
   "source": [
    "print(\"The best accuracy is: {0} and the best model parameters are: {1}\".format(grid.best_score_, grid.best_params_))"
   ]
  },
  {
   "cell_type": "code",
   "execution_count": 30,
   "id": "b90d1853",
   "metadata": {},
   "outputs": [
    {
     "name": "stdout",
     "output_type": "stream",
     "text": [
      "Accuray for training data is: 0.7848400683677207 and for test data is: 0.7806872978087042\n",
      "\n",
      "\n",
      "Precision for training data is: 0.3070935960591133 and for test data is: 0.29709576138147564\n",
      "\n",
      "\n",
      "Recall for training data is: 0.9947343226424127 and for test data is: 0.9927868852459016\n",
      "\n",
      "\n",
      "F1 Score for training data is: 0.46930402378891106 and for test data is: 0.4573327291949856\n",
      "\n",
      "\n",
      "AUC Score for training data is: 0.8786887724988779 and for test data is: 0.8758523199954101\n"
     ]
    }
   ],
   "source": [
    "clf = SVC(C=100, kernel='rbf', class_weight='balanced')\n",
    "clf = clf.fit(x_train_norm, y_train)\n",
    "y_train_pred = clf.predict(x_train_norm) \n",
    "y_test_pred = clf.predict(x_test_norm)\n",
    "\n",
    "print(\"Accuray for training data is: {0} and for test data is: {1}\".format(accuracy_score(y_train, y_train_pred), accuracy_score(y_test, y_test_pred)))\n",
    "print(\"\\n\")\n",
    "print(\"Precision for training data is: {0} and for test data is: {1}\".format(precision_score(y_train, y_train_pred), precision_score(y_test, y_test_pred)))\n",
    "print(\"\\n\")\n",
    "print(\"Recall for training data is: {0} and for test data is: {1}\".format(recall_score(y_train, y_train_pred), recall_score(y_test, y_test_pred)))\n",
    "print(\"\\n\")\n",
    "print(\"F1 Score for training data is: {0} and for test data is: {1}\".format(f1_score(y_train, y_train_pred), f1_score(y_test, y_test_pred)))\n",
    "print(\"\\n\")\n",
    "print(\"AUC Score for training data is: {0} and for test data is: {1}\".format(roc_auc_score(y_train, y_train_pred), roc_auc_score(y_test, y_test_pred)))"
   ]
  },
  {
   "cell_type": "code",
   "execution_count": 31,
   "id": "4996977d",
   "metadata": {},
   "outputs": [],
   "source": [
    "result = pd.DataFrame(data=np.array([y_test, y_test_pred]).T, columns=[\"original\", \"predicted\"])\n",
    "result.to_csv(\"svm_results_without_pca.csv\", index=False)"
   ]
  },
  {
   "cell_type": "markdown",
   "id": "eb1e2c72",
   "metadata": {},
   "source": [
    "### Dimensionality reduction using PCA"
   ]
  },
  {
   "cell_type": "code",
   "execution_count": 32,
   "id": "e47c1c99",
   "metadata": {},
   "outputs": [],
   "source": [
    "pca = PCA(n_components=2) # initializing the pca class object with 2 components\n",
    "pca.fit(x_train_stand)\n",
    "x_train_dim_reduced = pca.transform(x_train_stand) # dimenssions reduced train data\n",
    "x_test_dim_reduced = pca.transform(x_test_stand) # dimenssions reduced test data"
   ]
  },
  {
   "cell_type": "markdown",
   "id": "e58846b1",
   "metadata": {},
   "source": [
    "#### Let's build new model on dimenssionality reduced data:"
   ]
  },
  {
   "cell_type": "code",
   "execution_count": 22,
   "id": "b1ecffb9",
   "metadata": {},
   "outputs": [
    {
     "name": "stdout",
     "output_type": "stream",
     "text": [
      "Fitting 3 folds for each of 6 candidates, totalling 18 fits\n",
      "[CV 1/3] END C=1, kernel=rbf;, score=(train=0.775, test=0.777) total time= 1.0min\n",
      "[CV 2/3] END C=1, kernel=rbf;, score=(train=0.777, test=0.776) total time= 1.1min\n",
      "[CV 3/3] END C=1, kernel=rbf;, score=(train=0.775, test=0.774) total time= 1.1min\n",
      "[CV 1/3] END C=1, kernel=poly;, score=(train=0.835, test=0.839) total time= 1.6min\n",
      "[CV 2/3] END C=1, kernel=poly;, score=(train=0.838, test=0.835) total time= 1.6min\n",
      "[CV 3/3] END C=1, kernel=poly;, score=(train=0.836, test=0.835) total time= 1.6min\n",
      "[CV 1/3] END C=10, kernel=rbf;, score=(train=0.778, test=0.780) total time= 1.2min\n",
      "[CV 2/3] END C=10, kernel=rbf;, score=(train=0.780, test=0.779) total time= 1.2min\n",
      "[CV 3/3] END C=10, kernel=rbf;, score=(train=0.778, test=0.779) total time= 1.2min\n",
      "[CV 1/3] END C=10, kernel=poly;, score=(train=0.835, test=0.839) total time= 2.2min\n",
      "[CV 2/3] END C=10, kernel=poly;, score=(train=0.838, test=0.835) total time= 2.2min\n",
      "[CV 3/3] END C=10, kernel=poly;, score=(train=0.836, test=0.835) total time= 2.2min\n",
      "[CV 1/3] END C=100, kernel=rbf;, score=(train=0.780, test=0.781) total time= 1.9min\n",
      "[CV 2/3] END C=100, kernel=rbf;, score=(train=0.782, test=0.781) total time= 1.9min\n",
      "[CV 3/3] END C=100, kernel=rbf;, score=(train=0.781, test=0.781) total time= 2.3min\n",
      "[CV 1/3] END C=100, kernel=poly;, score=(train=0.835, test=0.839) total time= 6.2min\n",
      "[CV 2/3] END C=100, kernel=poly;, score=(train=0.838, test=0.834) total time= 5.9min\n",
      "[CV 3/3] END C=100, kernel=poly;, score=(train=0.836, test=0.835) total time= 5.3min\n"
     ]
    },
    {
     "data": {
      "text/plain": [
       "GridSearchCV(cv=3, estimator=SVC(class_weight='balanced'),\n",
       "             param_grid={'C': [1, 10, 100], 'kernel': ['rbf', 'poly']},\n",
       "             return_train_score=True, verbose=5)"
      ]
     },
     "execution_count": 22,
     "metadata": {},
     "output_type": "execute_result"
    }
   ],
   "source": [
    "model = SVC(class_weight='balanced')\n",
    "param_grid = {'C':[1, 10, 100], 'kernel':['rbf', 'poly']}\n",
    "grid = GridSearchCV(model, param_grid, cv=3, return_train_score=True, verbose=5)\n",
    "grid.fit(x_train_dim_reduced,y_train)"
   ]
  },
  {
   "cell_type": "code",
   "execution_count": 23,
   "id": "6092113f",
   "metadata": {},
   "outputs": [
    {
     "name": "stdout",
     "output_type": "stream",
     "text": [
      "The best accuracy is: 0.8362837084976915 and the best model parameters are: {'C': 1, 'kernel': 'poly'}\n"
     ]
    }
   ],
   "source": [
    "print(\"The best accuracy is: {0} and the best model parameters are: {1}\".format(grid.best_score_, grid.best_params_))"
   ]
  },
  {
   "cell_type": "code",
   "execution_count": 33,
   "id": "6c5f9fde",
   "metadata": {},
   "outputs": [],
   "source": [
    "clf = SVC(C=1, kernel='poly', class_weight='balanced')\n",
    "clf.fit(x_train_dim_reduced, y_train)\n",
    "y_train_pred = clf.predict(x_train_dim_reduced) \n",
    "y_test_pred = clf.predict(x_test_dim_reduced)"
   ]
  },
  {
   "cell_type": "markdown",
   "id": "934a9e3d",
   "metadata": {},
   "source": [
    "##### Decision boundary:"
   ]
  },
  {
   "cell_type": "code",
   "execution_count": 19,
   "id": "af8000c0",
   "metadata": {},
   "outputs": [
    {
     "data": {
      "text/plain": [
       "<matplotlib.collections.PathCollection at 0x7fba90e21130>"
      ]
     },
     "execution_count": 19,
     "metadata": {},
     "output_type": "execute_result"
    },
    {
     "data": {
      "image/png": "[encoded data removed]",
      "text/plain": [
       "<Figure size 720x360 with 1 Axes>"
      ]
     },
     "metadata": {
      "needs_background": "light"
     },
     "output_type": "display_data"
    }
   ],
   "source": [
    "h = .02  # step size in the mesh\n",
    "# create a mesh to plot in\n",
    "x_min, x_max = x_test_dim_reduced[:, 0].min() - 1, x_test_dim_reduced[:, 0].max() + 1\n",
    "y_min, y_max = x_test_dim_reduced[:, 1].min() - 1, x_test_dim_reduced[:, 1].max() + 1\n",
    "xx, yy = np.meshgrid(np.arange(x_min, x_max, h),\n",
    "                     np.arange(y_min, y_max, h))\n",
    "\n",
    "\n",
    "# Plot the decision boundary. For that, we will assign a color to each\n",
    "# point in the mesh [x_min, m_max]x[y_min, y_max].\n",
    "Z = clf.predict(np.c_[xx.ravel(), yy.ravel()])\n",
    "\n",
    "# Put the result into a color plot\n",
    "Z = Z.reshape(xx.shape)\n",
    "plt.contour(xx, yy, Z, cmap=plt.cm.Paired)\n",
    "plt.axis('off')\n",
    "plt.scatter(x_test_dim_reduced[:,0], x_test_dim_reduced[:, 1], c=y_test, cmap=plt.cm.Paired)"
   ]
  },
  {
   "cell_type": "code",
   "execution_count": 24,
   "id": "daa109d8",
   "metadata": {},
   "outputs": [
    {
     "name": "stdout",
     "output_type": "stream",
     "text": [
      "Accuray for training data is: 0.8362837260407765 and for test data is: 0.8356222913996215\n",
      "\n",
      "\n",
      "Precision for training data is: 0.3124211588596417 and for test data is: 0.30802103879026954\n",
      "\n",
      "\n",
      "Recall for training data is: 0.5927876176799106 and for test data is: 0.6144262295081967\n",
      "\n",
      "\n",
      "F1 Score for training data is: 0.4091860337041524 and for test data is: 0.41033501204291656\n",
      "\n",
      "\n",
      "AUC Score for training data is: 0.7274108352148055 and for test data is: 0.736375855365217\n"
     ]
    }
   ],
   "source": [
    "print(\"Accuray for training data is: {0} and for test data is: {1}\".format(accuracy_score(y_train, y_train_pred), accuracy_score(y_test, y_test_pred)))\n",
    "print(\"\\n\")\n",
    "print(\"Precision for training data is: {0} and for test data is: {1}\".format(precision_score(y_train, y_train_pred), precision_score(y_test, y_test_pred)))\n",
    "print(\"\\n\")\n",
    "print(\"Recall for training data is: {0} and for test data is: {1}\".format(recall_score(y_train, y_train_pred), recall_score(y_test, y_test_pred)))\n",
    "print(\"\\n\")\n",
    "print(\"F1 Score for training data is: {0} and for test data is: {1}\".format(f1_score(y_train, y_train_pred), f1_score(y_test, y_test_pred)))\n",
    "print(\"\\n\")\n",
    "print(\"AUC Score for training data is: {0} and for test data is: {1}\".format(roc_auc_score(y_train, y_train_pred), roc_auc_score(y_test, y_test_pred)))"
   ]
  },
  {
   "cell_type": "code",
   "execution_count": 34,
   "id": "c15026a1",
   "metadata": {},
   "outputs": [],
   "source": [
    "result = pd.DataFrame(data=np.array([y_test, y_test_pred]).T, columns=[\"original\", \"predicted\"])\n",
    "result.to_csv(\"svm_results_with_pca.csv\", index=False)"
   ]
  }
 ],
 "metadata": {
  "kernelspec": {
   "display_name": "Python 3 (ipykernel)",
   "language": "python",
   "name": "python3"
  },
  "language_info": {
   "codemirror_mode": {
    "name": "ipython",
    "version": 3
   },
   "file_extension": ".py",
   "mimetype": "text/x-python",
   "name": "python",
   "nbconvert_exporter": "python",
   "pygments_lexer": "ipython3",
   "version": "3.9.12"
  }
 },
 "nbformat": 4,
 "nbformat_minor": 5
}
